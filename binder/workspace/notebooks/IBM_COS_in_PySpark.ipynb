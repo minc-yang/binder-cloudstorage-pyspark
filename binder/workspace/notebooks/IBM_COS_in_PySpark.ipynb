{
 "cells": [
  {
   "cell_type": "code",
   "execution_count": null,
   "id": "2972b13f",
   "metadata": {},
   "outputs": [],
   "source": [
    "#!pip install ibmos2spark"
   ]
  },
  {
   "cell_type": "markdown",
   "id": "df5b1b7b",
   "metadata": {},
   "source": [
    "# Working with IBM COS in PySpark Notebook"
   ]
  },
  {
   "cell_type": "markdown",
   "id": "a7343e94",
   "metadata": {},
   "source": [
    "### setup"
   ]
  },
  {
   "cell_type": "code",
   "execution_count": null,
   "id": "189d9781",
   "metadata": {},
   "outputs": [],
   "source": [
    "# spark\n",
    "import pyspark.sql.functions as F\n",
    "from pyspark.sql.types import StringType, IntegerType, DoubleType, FloatType, LongType,StructType,StructField\n",
    "from pyspark.sql import SparkSession,SQLContext, Window, DataFrame\n",
    "from pyspark.rdd import RDD\n",
    "from pyspark.conf import SparkConf\n",
    "from pyspark.context import SparkContext\n",
    "from pyspark import StorageLevel\n",
    "\n",
    "TOTAL_SPARK_CPU_CORES = 4\n",
    "SQL_SHUFFLE_PARTITIONS_SIZE=1*TOTAL_SPARK_CPU_CORES\n",
    "\n",
    "# create spark session\n",
    "spark = SparkSession.builder.master(\"local[*]\").getOrCreate()\n",
    "sc = spark.sparkContext\n",
    "sqlContext = SQLContext(sc)\n",
    "spark"
   ]
  },
  {
   "cell_type": "code",
   "execution_count": null,
   "id": "6fb2431c",
   "metadata": {},
   "outputs": [],
   "source": [
    "import ibmos2spark\n",
    "\n",
    "myconfig={\n",
    "    'ACCESS_KEY_ID':'enter access id here',\n",
    "    'SECRET_ACCESS_KEY':'enter secret here',\n",
    "    'COS_ENDPOINT':'https://s3.us-east.cloud-object-storage.appdomain.cloud',\n",
    "}\n",
    "\n",
    "# connect to COS\n",
    "credentials = {\n",
    "  'endpoint': myconfig['COS_ENDPOINT'],  \n",
    "  'access_key': myconfig['ACCESS_KEY_ID'],\n",
    "  'secret_key': myconfig['SECRET_ACCESS_KEY']\n",
    "}\n",
    "configuration_name = 'mycos_config'  #you can give any string you like\n",
    "\n",
    "spark_cos = ibmos2spark.CloudObjectStorage(sc, credentials, configuration_name=configuration_name)  "
   ]
  },
  {
   "cell_type": "markdown",
   "id": "23cd08a7",
   "metadata": {},
   "source": [
    "### Read csv file"
   ]
  },
  {
   "cell_type": "code",
   "execution_count": null,
   "id": "668a2f37",
   "metadata": {},
   "outputs": [],
   "source": [
    "# read file to dataframe\n",
    "test_filename=\"country-codes_csv.csv\"\n",
    "test_bucket=\"my-codeset\"    \n",
    "read_sdf = spark.read.option(\"header\",\"true\").csv(spark_cos.url(test_filename,test_bucket))\n",
    "print(\"records: \",read_sdf.count())\n",
    "read_sdf.limit(10).show(10)"
   ]
  },
  {
   "cell_type": "markdown",
   "id": "db6e36f7",
   "metadata": {},
   "source": [
    "### Write file to Parquet format"
   ]
  },
  {
   "cell_type": "code",
   "execution_count": null,
   "id": "42d928af",
   "metadata": {},
   "outputs": [],
   "source": [
    "# read file to dataframe\n",
    "save_filename=\"country-codes_csv.parquest\"\n",
    "test_bucket=\"my-codeset\"    \n",
    "read_sdf.write.parquet(spark_cos.url(save_filename, test_bucket), mode='overwrite')\n",
    "print(\"done\")"
   ]
  },
  {
   "cell_type": "markdown",
   "id": "fb590c6c",
   "metadata": {},
   "source": [
    "### Retrive saved parquet file"
   ]
  },
  {
   "cell_type": "code",
   "execution_count": null,
   "id": "1356bcaa",
   "metadata": {},
   "outputs": [],
   "source": [
    "# read file to dataframe\n",
    "read_sdf2 = spark.read.parquet(spark_cos.url(save_filename,test_bucket))\n",
    "print(\"records: \",read_sdf2.count())\n",
    "read_sdf2.limit(10).show(10)"
   ]
  }
 ],
 "metadata": {
  "kernelspec": {
   "display_name": "pyspark3",
   "language": "python",
   "name": "pyspark3"
  },
  "language_info": {
   "codemirror_mode": {
    "name": "ipython",
    "version": 3
   },
   "file_extension": ".py",
   "mimetype": "text/x-python",
   "name": "python",
   "nbconvert_exporter": "python",
   "pygments_lexer": "ipython3",
   "version": "3.7.10"
  }
 },
 "nbformat": 4,
 "nbformat_minor": 5
}
