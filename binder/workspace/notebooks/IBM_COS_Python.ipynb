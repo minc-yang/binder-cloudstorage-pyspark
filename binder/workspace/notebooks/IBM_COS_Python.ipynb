{
 "cells": [
  {
   "cell_type": "code",
   "execution_count": null,
   "id": "2972b13f",
   "metadata": {},
   "outputs": [],
   "source": [
    "#!pip install ibm-cos-sdk"
   ]
  },
  {
   "cell_type": "markdown",
   "id": "df5b1b7b",
   "metadata": {},
   "source": [
    "# Working with IBM COS in Python SDK Notebook"
   ]
  },
  {
   "cell_type": "markdown",
   "id": "a7343e94",
   "metadata": {},
   "source": [
    "### List bucket files"
   ]
  },
  {
   "cell_type": "markdown",
   "id": "23cd08a7",
   "metadata": {},
   "source": [
    "##### cos bucket directory"
   ]
  },
  {
   "cell_type": "code",
   "execution_count": null,
   "id": "668a2f37",
   "metadata": {},
   "outputs": [],
   "source": [
    "from ibm_botocore.client import Config, ClientError\n",
    "import ibm_boto3\n",
    "import pandas as pd\n",
    "import io\n",
    "\n",
    "pd.set_option('display.max_columns', None)\n",
    "pd.set_option('max_rows', None)\n",
    "\n",
    "MY_ACCESS_KEY_ID=\"enter-my-access-key\"\n",
    "MY_SECRET_ACCESS_KEY=\"enter-my-access-key-secret\"\n",
    "COS_ENDPOINT=\"https://s3.us-east.cloud-object-storage.appdomain.cloud\"\n",
    "COS_BUCKET_PUBLIC_DATASET=\"my-codeset\""
   ]
  },
  {
   "cell_type": "code",
   "execution_count": null,
   "id": "24a07e3b",
   "metadata": {},
   "outputs": [],
   "source": [
    "\"\"\"List Bucket Objects\"\"\"\n",
    "all_bucket_csv_files = []\n",
    "s3_resource = ibm_boto3.resource(\"s3\", \n",
    "        aws_access_key_id=MY_ACCESS_KEY_ID, \n",
    "        aws_secret_access_key=MY_SECRET_ACCESS_KEY, \n",
    "        endpoint_url=COS_ENDPOINT)\n",
    "\n",
    "#public_bucket = s3_resource.Bucket(name='awb-ddeid-dataset-public')\n",
    "public_bucket = s3_resource.Bucket(name=COS_BUCKET_PUBLIC_DATASET)\n",
    "\n",
    "for bucket_object in public_bucket.objects.all():\n",
    "     if bucket_object.key.endswith('.csv'):\n",
    "            #filter meta data\n",
    "            if \"metadata\" not in bucket_object.key: \n",
    "                all_bucket_csv_files.append(bucket_object.key)"
   ]
  },
  {
   "cell_type": "code",
   "execution_count": null,
   "id": "aa41dd1b",
   "metadata": {},
   "outputs": [],
   "source": [
    "print(len(all_bucket_csv_files))\n",
    "all_bucket_csv_files"
   ]
  },
  {
   "cell_type": "markdown",
   "id": "fb590c6c",
   "metadata": {},
   "source": [
    "### Retrive a file content"
   ]
  },
  {
   "cell_type": "code",
   "execution_count": null,
   "id": "1356bcaa",
   "metadata": {},
   "outputs": [],
   "source": [
    "def get_dataframe_from_cos(s3_resource,bucket_name, key):\n",
    "    obj = s3_resource.Object(bucket_name=bucket_name, key=key).get()\n",
    "    return pd.read_csv(io.BytesIO(obj['Body'].read()), error_bad_lines=False, index_col=False, dtype='unicode',low_memory=False)"
   ]
  },
  {
   "cell_type": "code",
   "execution_count": null,
   "id": "33b6a9bd",
   "metadata": {},
   "outputs": [],
   "source": [
    "first_csv_file=all_bucket_csv_files[0]"
   ]
  },
  {
   "cell_type": "code",
   "execution_count": null,
   "id": "0de7c9ca",
   "metadata": {
    "scrolled": true
   },
   "outputs": [],
   "source": [
    "# # Read COS file content into Panda DataFrame\n",
    "pd3 = get_dataframe_from_cos(s3_resource,bucket_name=COS_BUCKET_PUBLIC_DATASET, key=first_csv_file)"
   ]
  },
  {
   "cell_type": "code",
   "execution_count": null,
   "id": "cdb46a93",
   "metadata": {
    "scrolled": true
   },
   "outputs": [],
   "source": [
    "pd3.head(5)"
   ]
  }
 ],
 "metadata": {
  "kernelspec": {
   "display_name": "pyspark3",
   "language": "python",
   "name": "pyspark3"
  },
  "language_info": {
   "codemirror_mode": {
    "name": "ipython",
    "version": 3
   },
   "file_extension": ".py",
   "mimetype": "text/x-python",
   "name": "python",
   "nbconvert_exporter": "python",
   "pygments_lexer": "ipython3",
   "version": "3.7.10"
  }
 },
 "nbformat": 4,
 "nbformat_minor": 5
}
